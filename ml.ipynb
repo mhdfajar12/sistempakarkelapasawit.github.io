{
  "cells": [
    {
      "cell_type": "code",
      "execution_count": 1,
      "id": "2ab1627b-dad4-4f08-bd80-7665609c1528",
      "metadata": {
        "id": "2ab1627b-dad4-4f08-bd80-7665609c1528"
      },
      "outputs": [],
      "source": [
        "from sklearn.model_selection import train_test_split\n",
        "from sklearn.tree import DecisionTreeClassifier\n",
        "from sklearn import metrics\n",
        "import pandas as pd\n",
        "import pickle\n",
        "\n",
        "data = pd.read_csv(\"MOCK_DATA.csv\")"
      ]
    },
    {
      "cell_type": "code",
      "execution_count": 2,
      "id": "f149b94b-b219-4d4d-b05c-9fa4422c9b08",
      "metadata": {
        "colab": {
          "base_uri": "https://localhost:8080/"
        },
        "id": "f149b94b-b219-4d4d-b05c-9fa4422c9b08",
        "outputId": "b978e585-b770-46ea-9870-893accedda3c"
      },
      "outputs": [
        {
          "output_type": "execute_result",
          "data": {
            "text/plain": [
              "array(['busuk pangkal batang', 'busuk kuncup', 'anthracnose',\n",
              "       'daun mengecil', 'busuk buah', 'garis kuning', 'tajuk',\n",
              "       'busuk akar sawit'], dtype=object)"
            ]
          },
          "metadata": {},
          "execution_count": 2
        }
      ],
      "source": [
        "data.head()\n",
        "data[\"nama\"].unique()"
      ]
    },
    {
      "cell_type": "code",
      "execution_count": 3,
      "id": "4426185f-2979-44c3-9388-26ab32563a20",
      "metadata": {
        "id": "4426185f-2979-44c3-9388-26ab32563a20"
      },
      "outputs": [],
      "source": [
        "x = data.drop([\"nama\"],axis=1)\n",
        "y = data[\"nama\"]\n",
        "x_train, x_test, y_train, y_test = train_test_split(x,y ,\n",
        "                                   random_state=104,\n",
        "                                   test_size=0.7,\n",
        "                                   shuffle=True)"
      ]
    },
    {
      "cell_type": "code",
      "execution_count": 4,
      "id": "8f81e835-c7e0-4e7d-98ed-479dcdcb9f60",
      "metadata": {
        "id": "8f81e835-c7e0-4e7d-98ed-479dcdcb9f60"
      },
      "outputs": [],
      "source": [
        "classifier = DecisionTreeClassifier()\n",
        "classifier.fit(x_train,y_train)\n",
        "y_pred = classifier.predict(x_test)"
      ]
    },
    {
      "cell_type": "code",
      "execution_count": 5,
      "id": "09332929-3a18-4daa-9970-0a33888e012a",
      "metadata": {
        "colab": {
          "base_uri": "https://localhost:8080/"
        },
        "id": "09332929-3a18-4daa-9970-0a33888e012a",
        "outputId": "6b06460a-8b63-4d07-8626-9eaa4ca23748"
      },
      "outputs": [
        {
          "output_type": "stream",
          "name": "stdout",
          "text": [
            "Accuracy: 0.14285714285714285\n"
          ]
        }
      ],
      "source": [
        "print(\"Accuracy:\",metrics.accuracy_score(y_test, y_pred))\n",
        "\n",
        "accuracy = metrics.accuracy_score(y_test, y_pred)\n",
        "f1_score = metrics.classification_report(y_test,y_pred,output_dict=True)"
      ]
    },
    {
      "cell_type": "code",
      "execution_count": 6,
      "id": "7dc05666-3e00-4717-865f-b319b2473827",
      "metadata": {
        "id": "7dc05666-3e00-4717-865f-b319b2473827"
      },
      "outputs": [],
      "source": [
        "filename = \"ml.pkl\"\n",
        "metrics = {\n",
        "    \"accuracy\": accuracy,\n",
        "    \"f1_score\": f1_score,\n",
        "    # Add other pre-defined metrics as needed\n",
        "}\n",
        "with open(\"ml.pkl\", \"wb\") as f:\n",
        "    pickle.dump(classifier, f)\n",
        "    pickle.dump(metrics, f)"
      ]
    },
    {
      "cell_type": "code",
      "execution_count": null,
      "id": "205a52f6-93c3-4e26-b9c5-22a05ea5d5a4",
      "metadata": {
        "id": "205a52f6-93c3-4e26-b9c5-22a05ea5d5a4"
      },
      "outputs": [],
      "source": []
    }
  ],
  "metadata": {
    "kernelspec": {
      "display_name": "Python 3 (ipykernel)",
      "language": "python",
      "name": "python3"
    },
    "language_info": {
      "codemirror_mode": {
        "name": "ipython",
        "version": 3
      },
      "file_extension": ".py",
      "mimetype": "text/x-python",
      "name": "python",
      "nbconvert_exporter": "python",
      "pygments_lexer": "ipython3",
      "version": "3.8.10"
    },
    "colab": {
      "provenance": []
    }
  },
  "nbformat": 4,
  "nbformat_minor": 5
}